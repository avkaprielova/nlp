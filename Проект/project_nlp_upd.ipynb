{
  "nbformat": 4,
  "nbformat_minor": 0,
  "metadata": {
    "colab": {
      "name": "project_nlp.ipynb",
      "provenance": [],
      "collapsed_sections": []
    },
    "kernelspec": {
      "name": "python3",
      "display_name": "Python 3"
    }
  },
  "cells": [
    {
      "cell_type": "markdown",
      "metadata": {
        "id": "qEhixidLHfFa",
        "colab_type": "text"
      },
      "source": [
        "# Проект по АвтОбрЕЯ\n",
        "\n",
        "Ccылка на файл с требованиями: https://docs.google.com/document/d/1hHPc2y_fXNvlh623_5GTAMqcAtSucxNaC9ZRuwHi3Wk/edit#"
      ]
    },
    {
      "cell_type": "markdown",
      "metadata": {
        "id": "hlbhlHB8IEV-",
        "colab_type": "text"
      },
      "source": [
        "### Над проектом работали:\n",
        "\n",
        "*   Андрей Зырянов\n",
        "*   Настя Каприелова\n",
        "*   Настя Кромина\n",
        "*   Петрова Даша"
      ]
    },
    {
      "cell_type": "markdown",
      "metadata": {
        "id": "gJDWN-BBHoWX",
        "colab_type": "text"
      },
      "source": [
        "При выполнении задачи приветствуются эксперименты с теми методами, про которые рассказывали на занятиях: различные меры ассоциативной связи (коллокационные меры), разрешения семантической неоднозначности (AdaGram, семантическое расстояние по РуТез), определения семантической близости, тематическое моделирование, извлечение словаря тональной лексики…\n",
        "Для морфологической разметки и выделения синтаксических связей можно использовать UDPipe. Кроме того, можно использовать различные дополнительные ресурсы: векторные модели / эмбеддинги (в том числе мультиязычные), любые другие корпуса (например, описания блюд для составления списка блюд)"
      ]
    },
    {
      "cell_type": "markdown",
      "metadata": {
        "id": "Uw6hK2nczIEb",
        "colab_type": "text"
      },
      "source": [
        "**Формируем датасет для корпуса SentiRuEval_rest_train**"
      ]
    },
    {
      "cell_type": "code",
      "metadata": {
        "id": "nfGvxyBQTIS3",
        "colab_type": "code",
        "colab": {}
      },
      "source": [
        "import re\n",
        "import numpy as np\n",
        "import pandas as pd"
      ],
      "execution_count": 0,
      "outputs": []
    },
    {
      "cell_type": "code",
      "metadata": {
        "id": "m1g7b8voPSg7",
        "colab_type": "code",
        "outputId": "36325fff-3070-4a0b-b16c-09ffc9dc5448",
        "colab": {
          "base_uri": "https://localhost:8080/",
          "height": 125
        }
      },
      "source": [
        "from google.colab import drive\n",
        "drive.mount('/content/gdrive')"
      ],
      "execution_count": 2,
      "outputs": [
        {
          "output_type": "stream",
          "text": [
            "Go to this URL in a browser: https://accounts.google.com/o/oauth2/auth?client_id=947318989803-6bn6qk8qdgf4n4g3pfee6491hc0brc4i.apps.googleusercontent.com&redirect_uri=urn%3aietf%3awg%3aoauth%3a2.0%3aoob&response_type=code&scope=email%20https%3a%2f%2fwww.googleapis.com%2fauth%2fdocs.test%20https%3a%2f%2fwww.googleapis.com%2fauth%2fdrive%20https%3a%2f%2fwww.googleapis.com%2fauth%2fdrive.photos.readonly%20https%3a%2f%2fwww.googleapis.com%2fauth%2fpeopleapi.readonly\n",
            "\n",
            "Enter your authorization code:\n",
            "··········\n",
            "Mounted at /content/gdrive\n"
          ],
          "name": "stdout"
        }
      ]
    },
    {
      "cell_type": "code",
      "metadata": {
        "id": "5sbx2CrTPne2",
        "colab_type": "code",
        "colab": {}
      },
      "source": [
        "import os\n",
        "os.chdir('gdrive/My Drive/Colab Notebooks')"
      ],
      "execution_count": 0,
      "outputs": []
    },
    {
      "cell_type": "code",
      "metadata": {
        "id": "KI_pJ-4zzFUe",
        "colab_type": "code",
        "colab": {}
      },
      "source": [
        "corpus_train_file = open('SentiRuEval_rest_train.xml', 'r', encoding = 'utf-8', errors='ignore')\n",
        "corpus_train = corpus_train_file.read()\n",
        "corpus_train_file.close()"
      ],
      "execution_count": 0,
      "outputs": []
    },
    {
      "cell_type": "code",
      "metadata": {
        "id": "DRoWr4jWQrl0",
        "colab_type": "code",
        "colab": {}
      },
      "source": [
        "texts = re.findall(r'<text>(.*?)</text>', corpus_train)"
      ],
      "execution_count": 0,
      "outputs": []
    },
    {
      "cell_type": "code",
      "metadata": {
        "id": "wWkIRhZLTzw_",
        "colab_type": "code",
        "colab": {}
      },
      "source": [
        "food = re.findall(r'<food>(.*?)</food>', corpus_train)"
      ],
      "execution_count": 0,
      "outputs": []
    },
    {
      "cell_type": "code",
      "metadata": {
        "id": "kAPkbexmT_Kg",
        "colab_type": "code",
        "colab": {}
      },
      "source": [
        "service = re.findall(r'<service>(.*?)</service>', corpus_train)"
      ],
      "execution_count": 0,
      "outputs": []
    },
    {
      "cell_type": "code",
      "metadata": {
        "id": "wwodFO9ld_sB",
        "colab_type": "code",
        "colab": {}
      },
      "source": [
        "d = {'texts': texts, 'food': food, 'service': service}\n",
        "df = pd.DataFrame(data=d)"
      ],
      "execution_count": 0,
      "outputs": []
    },
    {
      "cell_type": "code",
      "metadata": {
        "id": "EwQvtG9Yr4Ij",
        "colab_type": "code",
        "outputId": "e4428fb6-5d6c-4b99-fc7c-6163efd29ff9",
        "colab": {
          "base_uri": "https://localhost:8080/",
          "height": 197
        }
      },
      "source": [
        "df.head()"
      ],
      "execution_count": 9,
      "outputs": [
        {
          "output_type": "execute_result",
          "data": {
            "text/html": [
              "<div>\n",
              "<style scoped>\n",
              "    .dataframe tbody tr th:only-of-type {\n",
              "        vertical-align: middle;\n",
              "    }\n",
              "\n",
              "    .dataframe tbody tr th {\n",
              "        vertical-align: top;\n",
              "    }\n",
              "\n",
              "    .dataframe thead th {\n",
              "        text-align: right;\n",
              "    }\n",
              "</style>\n",
              "<table border=\"1\" class=\"dataframe\">\n",
              "  <thead>\n",
              "    <tr style=\"text-align: right;\">\n",
              "      <th></th>\n",
              "      <th>texts</th>\n",
              "      <th>food</th>\n",
              "      <th>service</th>\n",
              "    </tr>\n",
              "  </thead>\n",
              "  <tbody>\n",
              "    <tr>\n",
              "      <th>0</th>\n",
              "      <td>И пускай на меня не обижается наш прославленны...</td>\n",
              "      <td>8</td>\n",
              "      <td>8</td>\n",
              "    </tr>\n",
              "    <tr>\n",
              "      <th>1</th>\n",
              "      <td>- Здравствуйте. Виа Д’Арженто! - Добрый вечер,...</td>\n",
              "      <td>9</td>\n",
              "      <td>10</td>\n",
              "    </tr>\n",
              "    <tr>\n",
              "      <th>2</th>\n",
              "      <td>Советую вам уволить Вашего метродотеля Елену, ...</td>\n",
              "      <td>9</td>\n",
              "      <td>1</td>\n",
              "    </tr>\n",
              "    <tr>\n",
              "      <th>3</th>\n",
              "      <td>отличный средне вековый интеръер. Приятное обс...</td>\n",
              "      <td>8</td>\n",
              "      <td>9</td>\n",
              "    </tr>\n",
              "    <tr>\n",
              "      <th>4</th>\n",
              "      <td>Ужинали в ресторане Баден-Баден 6 марта . Импо...</td>\n",
              "      <td>10</td>\n",
              "      <td>8</td>\n",
              "    </tr>\n",
              "  </tbody>\n",
              "</table>\n",
              "</div>"
            ],
            "text/plain": [
              "                                               texts food service\n",
              "0  И пускай на меня не обижается наш прославленны...    8       8\n",
              "1  - Здравствуйте. Виа Д’Арженто! - Добрый вечер,...    9      10\n",
              "2  Советую вам уволить Вашего метродотеля Елену, ...    9       1\n",
              "3  отличный средне вековый интеръер. Приятное обс...    8       9\n",
              "4  Ужинали в ресторане Баден-Баден 6 марта . Импо...   10       8"
            ]
          },
          "metadata": {
            "tags": []
          },
          "execution_count": 9
        }
      ]
    },
    {
      "cell_type": "code",
      "metadata": {
        "id": "WIG7u4taJeAo",
        "colab_type": "code",
        "outputId": "83524085-eea2-4317-de6c-e7792a8cfaa7",
        "colab": {
          "base_uri": "https://localhost:8080/",
          "height": 232
        }
      },
      "source": [
        "!pip install pymorphy2"
      ],
      "execution_count": 10,
      "outputs": [
        {
          "output_type": "stream",
          "text": [
            "Collecting pymorphy2\n",
            "\u001b[?25l  Downloading https://files.pythonhosted.org/packages/a3/33/fff9675c68b5f6c63ec8c6e6ff57827dda28a1fa5b2c2d727dffff92dd47/pymorphy2-0.8-py2.py3-none-any.whl (46kB)\n",
            "\r\u001b[K     |███████                         | 10kB 16.9MB/s eta 0:00:01\r\u001b[K     |██████████████▏                 | 20kB 1.7MB/s eta 0:00:01\r\u001b[K     |█████████████████████▎          | 30kB 2.5MB/s eta 0:00:01\r\u001b[K     |████████████████████████████▍   | 40kB 1.7MB/s eta 0:00:01\r\u001b[K     |████████████████████████████████| 51kB 1.7MB/s \n",
            "\u001b[?25hRequirement already satisfied: docopt>=0.6 in /usr/local/lib/python3.6/dist-packages (from pymorphy2) (0.6.2)\n",
            "Collecting pymorphy2-dicts<3.0,>=2.4\n",
            "\u001b[?25l  Downloading https://files.pythonhosted.org/packages/02/51/2465fd4f72328ab50877b54777764d928da8cb15b74e2680fc1bd8cb3173/pymorphy2_dicts-2.4.393442.3710985-py2.py3-none-any.whl (7.1MB)\n",
            "\u001b[K     |████████████████████████████████| 7.1MB 7.6MB/s \n",
            "\u001b[?25hCollecting dawg-python>=0.7\n",
            "  Downloading https://files.pythonhosted.org/packages/6a/84/ff1ce2071d4c650ec85745766c0047ccc3b5036f1d03559fd46bb38b5eeb/DAWG_Python-0.7.2-py2.py3-none-any.whl\n",
            "Installing collected packages: pymorphy2-dicts, dawg-python, pymorphy2\n",
            "Successfully installed dawg-python-0.7.2 pymorphy2-0.8 pymorphy2-dicts-2.4.393442.3710985\n"
          ],
          "name": "stdout"
        }
      ]
    },
    {
      "cell_type": "code",
      "metadata": {
        "id": "jJNxhmoMLJ0B",
        "colab_type": "code",
        "colab": {}
      },
      "source": [
        "#preprocessing texts in the df\n",
        "import pymorphy2\n",
        "\n",
        "from nltk.tokenize import RegexpTokenizer\n",
        "tokenizer = RegexpTokenizer(r'\\w+')\n",
        "\n",
        "p = re.compile(r'[\\W^ ]')\n",
        "morph = pymorphy2.MorphAnalyzer()"
      ],
      "execution_count": 0,
      "outputs": []
    },
    {
      "cell_type": "code",
      "metadata": {
        "id": "1zrOtsxYbXVT",
        "colab_type": "code",
        "colab": {}
      },
      "source": [
        "updated_texts = []\n",
        "for row in df['texts'][:5000]:\n",
        "  clean = p.sub(' ', row)\n",
        "  words = clean.split()\n",
        "  new_text = ' '.join(words)\n",
        "  updated_texts.append(new_text)"
      ],
      "execution_count": 0,
      "outputs": []
    },
    {
      "cell_type": "markdown",
      "metadata": {
        "id": "aUW2HZjneUze",
        "colab_type": "text"
      },
      "source": [
        "Создадим списки с биграммами и триграммами для проверки сочетаемости слов"
      ]
    },
    {
      "cell_type": "code",
      "metadata": {
        "id": "8aHo9CV5dP90",
        "colab_type": "code",
        "colab": {}
      },
      "source": [
        "def normalize(text):\n",
        "    tokens = tokenizer.tokenize(text.lower())\n",
        "    lemmas = [morph.parse(t)[0].normal_form for t in tokens]\n",
        "    return lemmas\n",
        "\n",
        "\n",
        "def get_ngrams(tokens, n, patterns=None):\n",
        "    ngrams = []\n",
        "    for i in range(len(tokens) - (n - 1)):\n",
        "        ngram = tokens[i:i+n]\n",
        "        tags = [morph.parse(t)[0].tag.POS for t in ngram]\n",
        "        if patterns is not None:\n",
        "            if tags in patterns:\n",
        "                ngrams.append(ngram)\n",
        "        else:\n",
        "            ngrams.append(ngram)\n",
        "    return ngrams"
      ],
      "execution_count": 0,
      "outputs": []
    },
    {
      "cell_type": "code",
      "metadata": {
        "id": "6vx-bBKiiAV5",
        "colab_type": "code",
        "colab": {}
      },
      "source": [
        "import time"
      ],
      "execution_count": 0,
      "outputs": []
    },
    {
      "cell_type": "code",
      "metadata": {
        "id": "rIL_YD4kdhR9",
        "colab_type": "code",
        "outputId": "a07be828-d326-4dad-d115-edf849d09d53",
        "colab": {
          "base_uri": "https://localhost:8080/",
          "height": 34
        }
      },
      "source": [
        "start_time = time.time()\n",
        "all_bigrams_adj = []\n",
        "for text in updated_texts: \n",
        "  bi_grams = get_ngrams(normalize(text), n=2, patterns=[['ADJF', 'NOUN']])\n",
        "  all_bigrams_adj.append(bi_grams)\n",
        "print(\"--- %s seconds ---\" % (time.time() - start_time))"
      ],
      "execution_count": 15,
      "outputs": [
        {
          "output_type": "stream",
          "text": [
            "--- 514.2666051387787 seconds ---\n"
          ],
          "name": "stdout"
        }
      ]
    },
    {
      "cell_type": "code",
      "metadata": {
        "id": "WzxT-7fFfcyi",
        "colab_type": "code",
        "colab": {}
      },
      "source": [
        "start_time = time.time()\n",
        "all_trigrams_adv_adj = []\n",
        "for text in updated_texts: \n",
        "  tr_grams_adv_adj = get_ngrams(normalize(text), n=3, patterns=[['ADVB', 'ADJF', 'NOUN']])\n",
        "  all_trigrams_adv_adj.append(tr_grams_adv_adj)\n",
        "print(\"--- %s seconds ---\" % (time.time() - start_time))"
      ],
      "execution_count": 0,
      "outputs": []
    },
    {
      "cell_type": "code",
      "metadata": {
        "id": "RPPoLW0RghUg",
        "colab_type": "code",
        "colab": {}
      },
      "source": [
        "start_time = time.time()\n",
        "all_trigrams_adv_verb = []\n",
        "for text in updated_texts: \n",
        "  tr_grams_adv_verb = get_ngrams(normalize(text), n=3, patterns=[['NOUN', 'ADVB', 'INFN']])\n",
        "  all_trigrams_adv_verb.append(tr_grams_adv_verb)\n",
        "print(\"--- %s seconds ---\" % (time.time() - start_time))"
      ],
      "execution_count": 0,
      "outputs": []
    },
    {
      "cell_type": "markdown",
      "metadata": {
        "id": "W-mBSTUjE9tN",
        "colab_type": "text"
      },
      "source": [
        "Создадим seed-ы из данных нам списков слов: Food 0, Food 1, Service 0 или Service 1"
      ]
    },
    {
      "cell_type": "code",
      "metadata": {
        "id": "lMw-3mZY-EYG",
        "colab_type": "code",
        "colab": {}
      },
      "source": [
        "Food_file = open('Food_words.txt', 'r', encoding = 'utf-8')\n",
        "Food = Food_file.read()\n",
        "Food_file.close()"
      ],
      "execution_count": 0,
      "outputs": []
    },
    {
      "cell_type": "code",
      "metadata": {
        "id": "eAb6i4KD_R7k",
        "colab_type": "code",
        "colab": {}
      },
      "source": [
        "Food_split = Food.split('\\n')"
      ],
      "execution_count": 0,
      "outputs": []
    },
    {
      "cell_type": "code",
      "metadata": {
        "id": "FtXmGoc-Ba8h",
        "colab_type": "code",
        "colab": {}
      },
      "source": [
        "Food0 = []\n",
        "Food1 = []\n",
        "for i in Food_split:\n",
        "  r = i.split('        ')\n",
        "  if r[2] == '1':\n",
        "    Food1.append(r[1])\n",
        "  if r[2] == '0':\n",
        "    Food0.append(r[1])"
      ],
      "execution_count": 0,
      "outputs": []
    },
    {
      "cell_type": "code",
      "metadata": {
        "id": "5Qqjh3cpDftV",
        "colab_type": "code",
        "colab": {}
      },
      "source": [
        "Service_file = open('Service_words.txt', 'r', encoding = 'utf-8')\n",
        "Service = Service_file.read()\n",
        "Service_file.close()"
      ],
      "execution_count": 0,
      "outputs": []
    },
    {
      "cell_type": "code",
      "metadata": {
        "id": "bz88CWxsEYeA",
        "colab_type": "code",
        "colab": {}
      },
      "source": [
        "Service_split = Service.split('\\n')"
      ],
      "execution_count": 0,
      "outputs": []
    },
    {
      "cell_type": "code",
      "metadata": {
        "id": "zlPud101D04D",
        "colab_type": "code",
        "colab": {}
      },
      "source": [
        "Service0 = []\n",
        "Service1 = []\n",
        "for i in Service_split:\n",
        "  r1 = i.split('\\t')\n",
        "  if r1[2] == '1':\n",
        "    Service1.append(r1[1])\n",
        "  if r1[2] == '0':\n",
        "    Service0.append(r1[1])"
      ],
      "execution_count": 0,
      "outputs": []
    },
    {
      "cell_type": "code",
      "metadata": {
        "id": "uTJnyQ1cFqGi",
        "colab_type": "code",
        "colab": {
          "base_uri": "https://localhost:8080/",
          "height": 87
        },
        "outputId": "6d52092c-49fb-417a-f539-fac791e07e41"
      },
      "source": [
        "print('f0 = ', len(Food0))\n",
        "print('f1 = ', len(Food1))\n",
        "print('s0 = ', len(Service0))\n",
        "print('s1 = ', len(Service1))"
      ],
      "execution_count": 23,
      "outputs": [
        {
          "output_type": "stream",
          "text": [
            "f0 =  3\n",
            "f1 =  17\n",
            "s0 =  1\n",
            "s1 =  19\n"
          ],
          "name": "stdout"
        }
      ]
    },
    {
      "cell_type": "markdown",
      "metadata": {
        "id": "0esw7fxKGkZB",
        "colab_type": "text"
      },
      "source": [
        "Списки с негативными слова очень маленькие, в сравнении с количеством позитивной лексики. Мы решили нормализировать наборы, в neg-списки с 0 увеличить количество слов до 5, в pos-списках с 1 - уменьшить"
      ]
    },
    {
      "cell_type": "code",
      "metadata": {
        "id": "RrBJCO8JGf-f",
        "colab_type": "code",
        "colab": {
          "base_uri": "https://localhost:8080/",
          "height": 52
        },
        "outputId": "af38e55c-b797-4187-a9c8-d64beec19ef0"
      },
      "source": [
        "print('Old Food0 list\\t', Food0)\n",
        "seed_neg_food = ['плохой','посредственный','отвратительный','сухой','жесткий']\n",
        "print('New Food0 list\\t', seed_neg_food)\n"
      ],
      "execution_count": 231,
      "outputs": [
        {
          "output_type": "stream",
          "text": [
            "Old Food0 list\t ['плохой', 'невкусный', 'посредственно']\n",
            "New Food0 list\t ['плохой', 'посредственный', 'отвратительный', 'сухой', 'жесткий']\n"
          ],
          "name": "stdout"
        }
      ]
    },
    {
      "cell_type": "code",
      "metadata": {
        "id": "IvCt8yB7GK8E",
        "colab_type": "code",
        "colab": {
          "base_uri": "https://localhost:8080/",
          "height": 52
        },
        "outputId": "04589383-479f-463f-deaa-1476145f051c"
      },
      "source": [
        "print('Old Service0 list\\t', Service0)\n",
        "seed_neg_serv = ['хамоватый','злой','грубый','рассеянный','медленный']\n",
        "print('New Service0 list\\t', seed_neg_serv)"
      ],
      "execution_count": 271,
      "outputs": [
        {
          "output_type": "stream",
          "text": [
            "Old Service0 list\t ['хамоватый']\n",
            "New Service0 list\t ['хамоватый', 'злой', 'грубый', 'рассеянный', 'медленный']\n"
          ],
          "name": "stdout"
        }
      ]
    },
    {
      "cell_type": "code",
      "metadata": {
        "id": "3VALAnu9I6aK",
        "colab_type": "code",
        "colab": {
          "base_uri": "https://localhost:8080/",
          "height": 72
        },
        "outputId": "4134e987-359b-4d84-d286-0b2ddfd1f1af"
      },
      "source": [
        "print('Old Food1 list\\t', Food1)\n",
        "seed_pos_food = ['вкусный','отличный','приятный','разнообразный','свежий']\n",
        "print('New Food1 list\\t', seed_pos_food)"
      ],
      "execution_count": 33,
      "outputs": [
        {
          "output_type": "stream",
          "text": [
            "Old Food1 list\t ['вкусный', 'большой', 'прекрасный', 'разнообразный', 'единственный', 'достойный', 'странный', 'отличный', 'горячий', 'сытный', 'свежий', 'великолепный', 'интересный', 'различный', 'необычный', 'приятный', 'понравиться']\n",
            "New Food1 list\t ['вкусный', 'отличный', 'приятный', 'разнообразный', 'свежий']\n"
          ],
          "name": "stdout"
        }
      ]
    },
    {
      "cell_type": "code",
      "metadata": {
        "id": "E9Q7KFcUKBUg",
        "colab_type": "code",
        "colab": {
          "base_uri": "https://localhost:8080/",
          "height": 72
        },
        "outputId": "b6a2e69b-0882-4dfa-eaf9-5b1f253e9605"
      },
      "source": [
        "print('Old Service1 list\\t', Service1)\n",
        "seed_pos_serv = ['приветливый','хороший','внимательный','отзывчивый','вежливый']\n",
        "print('New Service1 list\\t', seed_pos_serv)"
      ],
      "execution_count": 37,
      "outputs": [
        {
          "output_type": "stream",
          "text": [
            "Old Service1 list\t ['приветливый', 'внимательный', 'приятный', 'вежливый', 'хороший', 'ненавязчивый', 'доброжелательный', 'дружелюбный', 'отличный', 'милый', 'гостеприимный', 'качественный', 'отзывчивый', 'радушный', 'красивый', 'душевный', 'веселый', 'понравиться', 'спасибо']\n",
            "New Service1 list\t ['приветливый', 'хороший', 'внимательный', 'отзывчивый', 'вежливый']\n"
          ],
          "name": "stdout"
        }
      ]
    },
    {
      "cell_type": "markdown",
      "metadata": {
        "id": "i6WLmorJRIaI",
        "colab_type": "text"
      },
      "source": [
        "Загружаем модель araneum_none_fasttextcbow_300_5_2018.model, чтобы использовать её эмбеддинги"
      ]
    },
    {
      "cell_type": "code",
      "metadata": {
        "id": "AN9BieYeRETe",
        "colab_type": "code",
        "colab": {}
      },
      "source": [
        "%load_ext autoreload\n",
        "\n",
        "from gensim.models import Word2Vec, KeyedVectors"
      ],
      "execution_count": 0,
      "outputs": []
    },
    {
      "cell_type": "code",
      "metadata": {
        "id": "REMzfLD_RfPE",
        "colab_type": "code",
        "colab": {}
      },
      "source": [
        "from numpy import dot\n",
        "from numpy.linalg import norm\n",
        "\n",
        "def cossim(v1,v2): # функция подсчета косинусного расстояния\n",
        "  return dot(v1, v2)/(norm(v1)*norm(v2))"
      ],
      "execution_count": 0,
      "outputs": []
    },
    {
      "cell_type": "code",
      "metadata": {
        "id": "lt9SHwX6RpPL",
        "colab_type": "code",
        "outputId": "dc5104fe-297b-40fc-e464-c1bccb639d90",
        "colab": {
          "base_uri": "https://localhost:8080/",
          "height": 72
        }
      },
      "source": [
        "model_file = 'model.model'\n",
        "model = KeyedVectors.load(model_file)"
      ],
      "execution_count": 43,
      "outputs": [
        {
          "output_type": "stream",
          "text": [
            "/usr/local/lib/python3.6/dist-packages/smart_open/smart_open_lib.py:402: UserWarning: This function is deprecated, use smart_open.open instead. See the migration notes for details: https://github.com/RaRe-Technologies/smart_open/blob/master/README.rst#migrating-to-the-new-open-function\n",
            "  'See the migration notes for details: %s' % _MIGRATION_NOTES_URL\n"
          ],
          "name": "stderr"
        }
      ]
    },
    {
      "cell_type": "markdown",
      "metadata": {
        "id": "cgZqbO-UMU9d",
        "colab_type": "text"
      },
      "source": [
        "Проверим вектора на примере"
      ]
    },
    {
      "cell_type": "code",
      "metadata": {
        "id": "Cq2XIq5LR1Uw",
        "colab_type": "code",
        "outputId": "054cee10-96fb-46a2-d9f0-83c3eb939bda",
        "colab": {
          "base_uri": "https://localhost:8080/",
          "height": 34
        }
      },
      "source": [
        "query = 'Картошка была прекрасная.'\n",
        "query_tok = normalize(query)\n",
        "query_tok"
      ],
      "execution_count": 227,
      "outputs": [
        {
          "output_type": "execute_result",
          "data": {
            "text/plain": [
              "['картошка', 'быть', 'прекрасный']"
            ]
          },
          "metadata": {
            "tags": []
          },
          "execution_count": 227
        }
      ]
    },
    {
      "cell_type": "code",
      "metadata": {
        "id": "FKCGuw55R8Iu",
        "colab_type": "code",
        "outputId": "62a87d94-d199-4cb4-8ca9-47a7cb4189ae",
        "colab": {
          "base_uri": "https://localhost:8080/",
          "height": 158
        }
      },
      "source": [
        "query_vec = []\n",
        "for i in query_tok:\n",
        "  res = i in model.wv\n",
        "  print(i, ': ', res)\n",
        "  print(model[i][:5])\n",
        "  query_vec.append(model[i])"
      ],
      "execution_count": 228,
      "outputs": [
        {
          "output_type": "stream",
          "text": [
            "картошка :  True\n",
            "[-0.01691983 -0.5142729   0.31042105  0.5475326  -0.28163046]\n",
            "быть :  True\n",
            "[ 0.1256133  -0.54293644  0.24227035  0.04432327  0.1083925 ]\n",
            "прекрасный :  True\n",
            "[ 0.12641275 -0.31853437  0.04751264 -0.06571354  0.1707755 ]\n"
          ],
          "name": "stdout"
        },
        {
          "output_type": "stream",
          "text": [
            "/usr/local/lib/python3.6/dist-packages/ipykernel_launcher.py:3: DeprecationWarning: Call to deprecated `wv` (Attribute will be removed in 4.0.0, use self instead).\n",
            "  This is separate from the ipykernel package so we can avoid doing imports until\n"
          ],
          "name": "stderr"
        }
      ]
    },
    {
      "cell_type": "markdown",
      "metadata": {
        "id": "pzfwSLh4UeIw",
        "colab_type": "text"
      },
      "source": [
        "Создадим массивы векторов слов из seed"
      ]
    },
    {
      "cell_type": "code",
      "metadata": {
        "id": "EXcVl55QM92p",
        "colab_type": "code",
        "colab": {}
      },
      "source": [
        "pos_food_vec = []\n",
        "for i in seed_pos_food:\n",
        "  pos_food_vec.append(model[i])"
      ],
      "execution_count": 0,
      "outputs": []
    },
    {
      "cell_type": "code",
      "metadata": {
        "id": "uP68od98NRtn",
        "colab_type": "code",
        "colab": {}
      },
      "source": [
        "neg_food_vec = []\n",
        "for i in seed_neg_food:\n",
        "  neg_food_vec.append(model[i])"
      ],
      "execution_count": 0,
      "outputs": []
    },
    {
      "cell_type": "code",
      "metadata": {
        "id": "YSWd5Pj7NhnI",
        "colab_type": "code",
        "colab": {}
      },
      "source": [
        "pos_serv_vec = []\n",
        "for i in seed_pos_serv:\n",
        "  pos_serv_vec.append(model[i])"
      ],
      "execution_count": 0,
      "outputs": []
    },
    {
      "cell_type": "code",
      "metadata": {
        "id": "ooXzsEV0NifW",
        "colab_type": "code",
        "colab": {}
      },
      "source": [
        "neg_serv_vec = []\n",
        "for i in seed_neg_serv:\n",
        "  neg_serv_vec.append(model[i])"
      ],
      "execution_count": 0,
      "outputs": []
    },
    {
      "cell_type": "markdown",
      "metadata": {
        "id": "AEzCGyz6OM97",
        "colab_type": "text"
      },
      "source": [
        "Создадим также два дополнительных сида со словами категорий еда/сервис, а также списки их векторов"
      ]
    },
    {
      "cell_type": "code",
      "metadata": {
        "id": "SFTa6epPODZR",
        "colab_type": "code",
        "colab": {}
      },
      "source": [
        "seed_food = ['мясо','рыба','лук','гриб', 'помидор']\n",
        "food_vec = []\n",
        "for i in seed_food:\n",
        "  food_vec.append(model[i])"
      ],
      "execution_count": 0,
      "outputs": []
    },
    {
      "cell_type": "code",
      "metadata": {
        "id": "6KiRV8R_Oadk",
        "colab_type": "code",
        "colab": {}
      },
      "source": [
        "seed_serv = ['официант','обслуживание','сервис','администратор', 'сотрудник']\n",
        "serv_vec = []\n",
        "for i in seed_serv:\n",
        "  serv_vec.append(model[i])"
      ],
      "execution_count": 0,
      "outputs": []
    },
    {
      "cell_type": "markdown",
      "metadata": {
        "id": "HPKcq-FoOkjJ",
        "colab_type": "text"
      },
      "source": [
        "Посмотрим на близость слов из предложения-примера выше со словами из списка еды"
      ]
    },
    {
      "cell_type": "code",
      "metadata": {
        "id": "WIURL3ppOgoU",
        "colab_type": "code",
        "colab": {
          "base_uri": "https://localhost:8080/",
          "height": 70
        },
        "outputId": "87d91160-fcfe-491f-f488-891cb63c396b"
      },
      "source": [
        "for i in range(len(query_vec)):\n",
        "  total = 0\n",
        "  v1 = query_vec[i]\n",
        "  for j in range(len(food_vec)):\n",
        "    v2 = food_vec[j]\n",
        "    sim = cossim(v1,v2)\n",
        "    total += sim\n",
        "  space = ' '\n",
        "  print(f'{query_tok[i]:10} & food_seed = {total}')"
      ],
      "execution_count": 229,
      "outputs": [
        {
          "output_type": "stream",
          "text": [
            "картошка   & food_seed = 2.6930912733078003\n",
            "быть       & food_seed = 1.044472575187683\n",
            "прекрасный & food_seed = 0.7706841230392456\n"
          ],
          "name": "stdout"
        }
      ]
    },
    {
      "cell_type": "code",
      "metadata": {
        "id": "nItIoSOEQOx4",
        "colab_type": "code",
        "colab": {}
      },
      "source": [
        "#кандидаты по близости\n",
        "food_cand = []\n",
        "serv_cand = []\n",
        "pos_food_cand = []\n",
        "neg_food_cand = []\n",
        "pos_serv_cand = []\n",
        "neg_serv_cand = []\n",
        "\n",
        "#их вектора\n",
        "food_vec_cand = []\n",
        "serv_vec_cand = []\n",
        "pos_food_vec_cand = []\n",
        "neg_food_vec_cand = []\n",
        "pos_serv_vec_cand = []\n",
        "neg_serv_vec_cand = []\n"
      ],
      "execution_count": 0,
      "outputs": []
    },
    {
      "cell_type": "markdown",
      "metadata": {
        "id": "m96ch4ZQND4n",
        "colab_type": "text"
      },
      "source": [
        "#continue"
      ]
    },
    {
      "cell_type": "markdown",
      "metadata": {
        "id": "XsCD2blKVPjV",
        "colab_type": "text"
      },
      "source": [
        "Функция detect находит в предложениии кандидатов для пополнения списков seed и выдает результат в соответствующем формате\n",
        "\n",
        "Для задачи нахождения оценочных слов с каким-то аспектом в предложении, формат вывода отличается, поэтому для его переформатирования используется функция  result_transform"
      ]
    },
    {
      "cell_type": "markdown",
      "metadata": {
        "id": "Fm5EYG83VTDQ",
        "colab_type": "text"
      },
      "source": [
        "В функции detect мы для каждого слова из предложения смотрим его косинуную близость со словами из сидов, если число близостей, которые > 0.3, превышает 75% от сида, добавляем слово в кандидаты для пополнения сида.\n",
        "\n",
        "Если в одном предложении встречается слово с аспектом и оценочное слово, пара становится кандидатом для списка оценочных слов.\n",
        "\n",
        "Все кандидаты далее будут проверяться на основе сравнения с коллокациями."
      ]
    },
    {
      "cell_type": "code",
      "metadata": {
        "id": "UjZU77NjUrVD",
        "colab_type": "code",
        "outputId": "897c7eb4-59a3-4872-ef6e-b276fa686d7e",
        "colab": {
          "base_uri": "https://localhost:8080/",
          "height": 70
        }
      },
      "source": [
        "import nltk\n",
        "nltk.download('stopwords')"
      ],
      "execution_count": 74,
      "outputs": [
        {
          "output_type": "stream",
          "text": [
            "[nltk_data] Downloading package stopwords to /root/nltk_data...\n",
            "[nltk_data]   Unzipping corpora/stopwords.zip.\n"
          ],
          "name": "stdout"
        },
        {
          "output_type": "execute_result",
          "data": {
            "text/plain": [
              "True"
            ]
          },
          "metadata": {
            "tags": []
          },
          "execution_count": 74
        }
      ]
    },
    {
      "cell_type": "code",
      "metadata": {
        "id": "48lccJN7U6yo",
        "colab_type": "code",
        "colab": {}
      },
      "source": [
        "from nltk.corpus import stopwords\n",
        "stopwords = set(stopwords.words('russian'))"
      ],
      "execution_count": 0,
      "outputs": []
    },
    {
      "cell_type": "markdown",
      "metadata": {
        "id": "YGMZ55vMlxYf",
        "colab_type": "text"
      },
      "source": [
        "Функция ниже находит кандидатов в списки оценочных слов и возвращает информацию о том, появился ли новый кандидат"
      ]
    },
    {
      "cell_type": "code",
      "metadata": {
        "id": "LsKg3bxndqi5",
        "colab_type": "code",
        "colab": {}
      },
      "source": [
        "def cands(word, seed_list, seed_vec_list, cand_list, cand_vec_list):\n",
        "  sim_pass = 0\n",
        "  old_len = len(cand_list)\n",
        "  sim_total = 0\n",
        "  result = [False]\n",
        "  for p in seed_vec_list: #цикл по сиду векторов оценочных слов\n",
        "    sim = cossim(model[word], p)\n",
        "    sim_total += sim\n",
        "    if sim > 0.3:\n",
        "      sim_pass += 1\n",
        "  if sim_pass > 3: #and word not in cand_list and word not in seed_list\n",
        "    if morph.parse(word)[0].tag.POS == \"ADJF\":\n",
        "      result = [True]\n",
        "      result.append(sim_total)\n",
        "      #cand_list.append(word)\n",
        "      #cand_vec_list.append(model[word])\n",
        "\n",
        "  new_len = len(cand_list)\n",
        "\n",
        "  return result"
      ],
      "execution_count": 0,
      "outputs": []
    },
    {
      "cell_type": "code",
      "metadata": {
        "id": "TLfE_KOmEHZu",
        "colab_type": "code",
        "colab": {}
      },
      "source": [
        "def check(t, res, old_len, new_len):\n",
        "  if res[0] == True: # and new_len == old_len\n",
        "    t.append(res[1])\n",
        "  if res[0] == False:\n",
        "    t.append(0)"
      ],
      "execution_count": 0,
      "outputs": []
    },
    {
      "cell_type": "code",
      "metadata": {
        "id": "Wqmtjy43U8o9",
        "colab_type": "code",
        "colab": {}
      },
      "source": [
        "def detect(sent_id, sent): # для одного предложения\n",
        "  candidates = []\n",
        "  #длины списков кандидатов до разбора предложения\n",
        "  old_food_len = len(food_cand)\n",
        "  old_serv_len = len(serv_cand)\n",
        "\n",
        "  words = normalize(sent)\n",
        "  food = 'no food'\n",
        "  service = 'no service'\n",
        "\n",
        "  for i in range(len(words)):\n",
        "    pos_tag = morph.parse(words[i])[0].tag.POS\n",
        "    if words[i] not in stopwords:\n",
        "      sim_pass = 0\n",
        "      for j in food_vec:  #цикл для еды: смотрим на близость текущего слова со словами из seed_food\n",
        "        sim = cossim(model[words[i]], j)\n",
        "        if sim > 0.3:\n",
        "          sim_pass += 1\n",
        "      if sim_pass > 3: #смотрим на количество близких слов: если их больше 3, считаем, что слово относится к еде\n",
        "        food = 'detected'\n",
        "        if words[i] not in food_cand and words[i] not in seed_food and pos_tag == \"NOUN\": #добавляем его в список кандидатов, если его там нет (и его вектор)\n",
        "          food_cand.append(words[i])\n",
        "          food_vec_cand.append(model[words[i]])\n",
        "      new_food_len = len(food_cand) #записываем новую длину, чтобы потом проверить были ли добавлены слова\n",
        "\n",
        "      sim_pass_serv = 0\n",
        "      for s in serv_vec: #цикл для сервиса (такой же как для еды)\n",
        "        sim = cossim(model[words[i]], s)\n",
        "        if sim > 0.3:\n",
        "          sim_pass_serv += 1\n",
        "      if sim_pass_serv > 3:\n",
        "        service = 'detected'\n",
        "        if words[i] not in serv_cand and words[i] not in seed_serv and pos_tag == \"NOUN\": \n",
        "          serv_cand.append(words[i])\n",
        "          serv_vec_cand.append(model[words[i]])\n",
        "      new_serv_len = len(serv_cand)\n",
        "\n",
        "      pos_food_res = cands(words[i], seed_pos_food, pos_food_vec, pos_food_cand, pos_food_vec_cand)\n",
        "      pos_serv_res = cands(words[i], seed_pos_serv, pos_serv_vec, pos_serv_cand, pos_serv_vec_cand)\n",
        "      neg_food_res = cands(words[i], seed_neg_food, neg_food_vec, neg_food_cand, neg_food_vec_cand)\n",
        "      neg_serv_res = cands(words[i], seed_neg_serv, neg_serv_vec, neg_serv_cand, neg_serv_vec_cand)\n",
        "\n",
        "      t = []\n",
        "      check(t, pos_food_res, old_serv_len, new_serv_len)\n",
        "      check(t, pos_serv_res, old_food_len, new_food_len)\n",
        "      check(t, neg_food_res, old_serv_len, new_serv_len)\n",
        "      check(t, neg_serv_res, old_food_len, new_food_len)\n",
        "\n",
        "      dop = 0\n",
        "      if len(t) < 4:\n",
        "        dop = 4 - len(t)\n",
        "      for q in range(dop):\n",
        "        t.append(0)\n",
        "\n",
        "      sum1 = t[0]+t[1]\n",
        "      sum2 = t[2]+t[3]\n",
        "\n",
        "      if sum1 > sum2:\n",
        "        if t[0] > t[1]:\n",
        "          c = [sent_id, 'Food', words[i], '1']\n",
        "          candidates.append(c)\n",
        "          pos_food_cand.append(words[i])\n",
        "        if t[0] < t[1]:\n",
        "          c = [sent_id, 'Service', words[i], '1']\n",
        "          candidates.append(c)\n",
        "          pos_serv_cand.append(words[i])\n",
        "      if sum1 < sum2:\n",
        "        if t[2] > t[3]:\n",
        "          c = [sent_id, 'Food', words[i], '0']\n",
        "          candidates.append(c)\n",
        "          neg_food_cand.append(words[i])\n",
        "        if t[2] < t[3]:\n",
        "          c = [sent_id, 'Service', words[i], '0']\n",
        "          candidates.append(c)\n",
        "          neg_serv_cand.append(words[i])\n",
        "\n",
        "  return candidates"
      ],
      "execution_count": 0,
      "outputs": []
    },
    {
      "cell_type": "markdown",
      "metadata": {
        "id": "tWW2adgJtq9i",
        "colab_type": "text"
      },
      "source": [
        "Проверим функции на примере"
      ]
    },
    {
      "cell_type": "code",
      "metadata": {
        "id": "MJDE8NhXVCqB",
        "colab_type": "code",
        "colab": {}
      },
      "source": [
        "sent_tt = 'Котлеты были сочные.'"
      ],
      "execution_count": 0,
      "outputs": []
    },
    {
      "cell_type": "code",
      "metadata": {
        "id": "YOWJnDGuVLMc",
        "colab_type": "code",
        "outputId": "bd4e8a3d-b771-4ce0-9dd1-e918da466621",
        "colab": {
          "base_uri": "https://localhost:8080/",
          "height": 34
        }
      },
      "source": [
        "res_tt = detect(1,sent_tt)\n",
        "res_tt"
      ],
      "execution_count": 600,
      "outputs": [
        {
          "output_type": "execute_result",
          "data": {
            "text/plain": [
              "[[1, 'Food', 'сочный', '1']]"
            ]
          },
          "metadata": {
            "tags": []
          },
          "execution_count": 600
        }
      ]
    },
    {
      "cell_type": "code",
      "metadata": {
        "id": "wuzeSQa7VZVn",
        "colab_type": "code",
        "outputId": "4016f260-c2de-44c2-8231-69e79cb53eaa",
        "colab": {
          "base_uri": "https://localhost:8080/",
          "height": 34
        }
      },
      "source": [
        "print(food_cand, serv_cand, pos_food_cand, neg_food_cand, pos_serv_cand, neg_serv_cand)"
      ],
      "execution_count": 601,
      "outputs": [
        {
          "output_type": "stream",
          "text": [
            "['котлета'] [] ['сочный'] [] [] []\n"
          ],
          "name": "stdout"
        }
      ]
    },
    {
      "cell_type": "code",
      "metadata": {
        "id": "_KvgJUYWrcPG",
        "colab_type": "code",
        "colab": {}
      },
      "source": [
        "def output(mas):\n",
        "  res = []\n",
        "  if mas != []:\n",
        "    for i in mas:\n",
        "      s = f'{i[1]}\\t{i[2]}\\t{i[3]}'\n",
        "      res.append(s)\n",
        "  return res"
      ],
      "execution_count": 0,
      "outputs": []
    },
    {
      "cell_type": "code",
      "metadata": {
        "id": "bvaL0HxnsyUa",
        "colab_type": "code",
        "colab": {
          "base_uri": "https://localhost:8080/",
          "height": 34
        },
        "outputId": "9298270d-8db6-4852-d25c-4289406a0454"
      },
      "source": [
        "output(res_tt)"
      ],
      "execution_count": 603,
      "outputs": [
        {
          "output_type": "execute_result",
          "data": {
            "text/plain": [
              "['Food\\tсочный\\t1']"
            ]
          },
          "metadata": {
            "tags": []
          },
          "execution_count": 603
        }
      ]
    },
    {
      "cell_type": "markdown",
      "metadata": {
        "id": "aSTZucqCF9xW",
        "colab_type": "text"
      },
      "source": [
        "Для нахождения корректного номера токена мы решили распарсить тексты udpipe-ом. Функция searchsent ищет номер нужного токена в полученной разметке"
      ]
    },
    {
      "cell_type": "code",
      "metadata": {
        "id": "PYZRw4fxF6OO",
        "colab_type": "code",
        "colab": {}
      },
      "source": [
        "import re\n",
        "\n",
        "with open('sentences_parsed', 'r', encoding = 'utf-8') as f:\n",
        "    parsed = f.read()\n",
        "    conllu_texts = parsed.split('SpacesAfter=\\\\r\\\\n')\n",
        "    reviews = []\n",
        "    for text in conllu_texts:\n",
        "        sentences_raw = text.split('# sent_id')\n",
        "        sentences = []\n",
        "        for sent_raw in sentences_raw[1:]:\n",
        "            words = sent_raw.split('\\n')[2:]\n",
        "            sentences.append(words)\n",
        "        reviews.append(sentences)\n",
        "\n",
        "def searchsent(i_rev, i_sent, word):\n",
        "    i_out = []\n",
        "    lemma = normalize(word)[0]\n",
        "    for line in reviews[i_rev][i_sent]:\n",
        "        if re.findall(lemma, line) != []:\n",
        "            i_out.append(line.split('\\t')[0])\n",
        "    return i_out"
      ],
      "execution_count": 0,
      "outputs": []
    },
    {
      "cell_type": "code",
      "metadata": {
        "id": "xZZBLGSYkI20",
        "colab_type": "code",
        "colab": {}
      },
      "source": [
        "#def transform(n, mas): #функция для изменения формата вывода по образцу ручной разметки, однако она не работает\n",
        "#  res = []\n",
        "#  for i in mas:\n",
        "#    sent_id = i[0]\n",
        "#    token_id = searchsent(n, sent_id, i[2])\n",
        "#    print('token_id = ',token_id)\n",
        "#    s = f'{sent_id}\\t{token_id}\\t{i[1]}\\t{i[3]}'\n",
        "#    print('s = ', s)\n",
        "#    res.append(s)\n",
        "#  return res"
      ],
      "execution_count": 0,
      "outputs": []
    },
    {
      "cell_type": "code",
      "metadata": {
        "id": "Tj2ZGinVXN0C",
        "colab_type": "code",
        "colab": {}
      },
      "source": [
        "def text_test(n, text): #detect для текста\n",
        "  sents = []\n",
        "  results = []\n",
        "  results_2 = []\n",
        "  pattern = re.compile(r'([А-ЯA-Z]((т.п.|т.д.|пр.|г.)|[^?!.\\(]|\\([^\\)]*\\))*[.?!]*)')\n",
        "  for i,sent in enumerate(pattern.findall(text)):\n",
        "    sents.append(sent[0])\n",
        "  for i in range(len(sents)):\n",
        "    result = detect(i, sents[i])\n",
        "    formarted_result = output(result)\n",
        "    if formarted_result != []:\n",
        "      results.append(formarted_result)\n",
        "    #other_result = transform(n,result)\n",
        "    #if other_result != []:\n",
        "    #  results_2.append(other_result)\n",
        "    ##texts_res.append(results)\n",
        "  return results#, results_2"
      ],
      "execution_count": 0,
      "outputs": []
    },
    {
      "cell_type": "code",
      "metadata": {
        "id": "YBc9Itc_XecZ",
        "colab_type": "code",
        "outputId": "ac21cfef-34ee-4538-f0ec-d440d73d7a4a",
        "colab": {
          "base_uri": "https://localhost:8080/",
          "height": 34
        }
      },
      "source": [
        "test_text = 'Еда была очень вкусной. Официантка была злой и грубой!'\n",
        "test_res = text_test(0,test_text)\n",
        "test_res"
      ],
      "execution_count": 606,
      "outputs": [
        {
          "output_type": "execute_result",
          "data": {
            "text/plain": [
              "[['Food\\tвкусный\\t1'], ['Service\\tзлой\\t0', 'Service\\tгрубый\\t0']]"
            ]
          },
          "metadata": {
            "tags": []
          },
          "execution_count": 606
        }
      ]
    },
    {
      "cell_type": "markdown",
      "metadata": {
        "id": "vMVsUSSfh0-8",
        "colab_type": "text"
      },
      "source": [
        "Выделим кандидатов из 5000 текстов"
      ]
    },
    {
      "cell_type": "code",
      "metadata": {
        "id": "BFFtCAnfYl9Y",
        "colab_type": "code",
        "colab": {}
      },
      "source": [
        "all_res = []\n",
        "tests_res = []\n",
        "for i in range(5000):\n",
        "  try:\n",
        "    r = text_test(i, texts[i])\n",
        "    if r != []:\n",
        "      all_res.append(r)\n",
        "  except AttributeError:\n",
        "    continue"
      ],
      "execution_count": 0,
      "outputs": []
    },
    {
      "cell_type": "code",
      "metadata": {
        "id": "R1HZcDzGS4Jj",
        "colab_type": "code",
        "colab": {
          "base_uri": "https://localhost:8080/",
          "height": 34
        },
        "outputId": "845a5b71-d6ac-4a42-a88f-d894e42c3b2c"
      },
      "source": [
        "len(all_res)"
      ],
      "execution_count": 608,
      "outputs": [
        {
          "output_type": "execute_result",
          "data": {
            "text/plain": [
              "442"
            ]
          },
          "metadata": {
            "tags": []
          },
          "execution_count": 608
        }
      ]
    },
    {
      "cell_type": "code",
      "metadata": {
        "id": "Hh6x8JgPS_hk",
        "colab_type": "code",
        "colab": {
          "base_uri": "https://localhost:8080/",
          "height": 194
        },
        "outputId": "07a7d79e-2ee7-4bd2-bf1f-4cde96d84969"
      },
      "source": [
        "for i in all_res[:10]:\n",
        "  print(i)"
      ],
      "execution_count": 609,
      "outputs": [
        {
          "output_type": "stream",
          "text": [
            "[['Service\\tуютный\\t1']]\n",
            "[['Food\\tотвратительный\\t0']]\n",
            "[['Food\\tприятный\\t1'], ['Service\\tдовольный\\t1', 'Service\\tтерпеливый\\t1', 'Service\\tвежливый\\t1'], ['Service\\tдовольный\\t1']]\n",
            "[['Food\\tвкусный\\t1'], ['Service\\tдовольный\\t1']]\n",
            "[['Service\\tдобрый\\t1']]\n",
            "[['Service\\tхороший\\t1'], ['Service\\tвнимательный\\t1', 'Service\\tучтивый\\t1', 'Service\\tнавязчивый\\t1'], ['Service\\tхороший\\t1']]\n",
            "[['Service\\tкапризный\\t0']]\n",
            "[['Service\\tдовольный\\t1'], ['Food\\tпревосходный\\t1'], ['Service\\tхороший\\t1']]\n",
            "[['Food\\tпрекрасный\\t1', 'Food\\tзамечательный\\t1']]\n",
            "[['Food\\tприятный\\t1'], ['Food\\tзамечательный\\t1']]\n"
          ],
          "name": "stdout"
        }
      ]
    },
    {
      "cell_type": "markdown",
      "metadata": {
        "id": "CiETWar9NDJ7",
        "colab_type": "text"
      },
      "source": [
        "Не будем записывать в файл все слова, возьмем только 50, чтобы посмотреть, корректные ли там выражения"
      ]
    },
    {
      "cell_type": "code",
      "metadata": {
        "id": "iQqZe-UkLiFW",
        "colab_type": "code",
        "colab": {}
      },
      "source": [
        "f = open('dict_add.txt', 'a', encoding = 'utf-8')\n",
        "for i in all_res[:50]:\n",
        "  for j in i:\n",
        "    for w in j:\n",
        "      f.write(w+'\\n')\n",
        "f.close()"
      ],
      "execution_count": 0,
      "outputs": []
    },
    {
      "cell_type": "markdown",
      "metadata": {
        "id": "bx9jKsA6jFgp",
        "colab_type": "text"
      },
      "source": [
        "Дополнительно можно было бы проверить выделенные слова, изучив коллокации и сравнив контексты употребления слов с списками слов food/service, которые мы автоматически расширили по косинусной близости"
      ]
    },
    {
      "cell_type": "markdown",
      "metadata": {
        "id": "L-Dl55tvPBCM",
        "colab_type": "text"
      },
      "source": [
        "Вот насколько увеличились списки:"
      ]
    },
    {
      "cell_type": "code",
      "metadata": {
        "id": "AUR3VQJBZhB4",
        "colab_type": "code",
        "colab": {
          "base_uri": "https://localhost:8080/",
          "height": 34
        },
        "outputId": "1fad2a10-93d2-4fe7-9989-3cadc44661b2"
      },
      "source": [
        "print('Количество кандидатов для аспекта еды: ', len(food_cand))"
      ],
      "execution_count": 611,
      "outputs": [
        {
          "output_type": "stream",
          "text": [
            "Количество кандидатов для аспекта еды:  326\n"
          ],
          "name": "stdout"
        }
      ]
    },
    {
      "cell_type": "code",
      "metadata": {
        "id": "OxG4rMecPJGS",
        "colab_type": "code",
        "colab": {
          "base_uri": "https://localhost:8080/",
          "height": 194
        },
        "outputId": "bd6ac776-c8f1-4038-8f9c-c4845f83a2b6"
      },
      "source": [
        "food_cand[:10]"
      ],
      "execution_count": 612,
      "outputs": [
        {
          "output_type": "execute_result",
          "data": {
            "text/plain": [
              "['котлета',\n",
              " 'еда',\n",
              " 'блюдо',\n",
              " 'суп',\n",
              " 'щи',\n",
              " 'лапша',\n",
              " 'пиво',\n",
              " 'шашлык',\n",
              " 'жаркое',\n",
              " 'чебурек']"
            ]
          },
          "metadata": {
            "tags": []
          },
          "execution_count": 612
        }
      ]
    },
    {
      "cell_type": "code",
      "metadata": {
        "id": "Yr5YKNUbZpjk",
        "colab_type": "code",
        "colab": {
          "base_uri": "https://localhost:8080/",
          "height": 34
        },
        "outputId": "f5b3670a-2f66-42fa-d273-87a717cf3f2c"
      },
      "source": [
        "print('Количество кандидатов для аспекта сервиса: ', len(serv_cand))"
      ],
      "execution_count": 613,
      "outputs": [
        {
          "output_type": "stream",
          "text": [
            "Количество кандидатов для аспекта сервиса:  98\n"
          ],
          "name": "stdout"
        }
      ]
    },
    {
      "cell_type": "code",
      "metadata": {
        "id": "ohtsC_ntfsTc",
        "colab_type": "code",
        "colab": {
          "base_uri": "https://localhost:8080/"
        },
        "outputId": "1de2d72c-b04b-4a1b-f57c-0ff0e7156bb5"
      },
      "source": [
        "serv_cand[:10]"
      ],
      "execution_count": 614,
      "outputs": [
        {
          "output_type": "execute_result",
          "data": {
            "text/plain": [
              "['официантка',\n",
              " 'ресторан',\n",
              " 'профи',\n",
              " 'заведение',\n",
              " 'клиент',\n",
              " 'бизнес',\n",
              " 'интерьер',\n",
              " 'заказ',\n",
              " 'посетитель',\n",
              " 'шеф']"
            ]
          },
          "metadata": {
            "tags": []
          },
          "execution_count": 614
        }
      ]
    },
    {
      "cell_type": "code",
      "metadata": {
        "id": "fHh0n06thGu4",
        "colab_type": "code",
        "colab": {}
      },
      "source": [
        ""
      ],
      "execution_count": 0,
      "outputs": []
    }
  ]
}